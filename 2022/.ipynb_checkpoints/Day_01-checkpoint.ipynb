{
 "cells": [
  {
   "cell_type": "markdown",
   "id": "eed9b299",
   "metadata": {},
   "source": [
    "# Day 1"
   ]
  },
  {
   "cell_type": "code",
   "execution_count": 1,
   "id": "83d1490a",
   "metadata": {},
   "outputs": [],
   "source": [
    "import numpy as np\n",
    "import pandas as pd"
   ]
  },
  {
   "cell_type": "code",
   "execution_count": 13,
   "id": "10cb7fb8",
   "metadata": {},
   "outputs": [],
   "source": [
    "food = pd.read_csv('inputs/day_01_input.txt', header=None, skip_blank_lines=False)"
   ]
  },
  {
   "cell_type": "code",
   "execution_count": 14,
   "id": "e8b36438",
   "metadata": {},
   "outputs": [
    {
     "data": {
      "text/html": [
       "<div>\n",
       "<style scoped>\n",
       "    .dataframe tbody tr th:only-of-type {\n",
       "        vertical-align: middle;\n",
       "    }\n",
       "\n",
       "    .dataframe tbody tr th {\n",
       "        vertical-align: top;\n",
       "    }\n",
       "\n",
       "    .dataframe thead th {\n",
       "        text-align: right;\n",
       "    }\n",
       "</style>\n",
       "<table border=\"1\" class=\"dataframe\">\n",
       "  <thead>\n",
       "    <tr style=\"text-align: right;\">\n",
       "      <th></th>\n",
       "      <th>0</th>\n",
       "    </tr>\n",
       "  </thead>\n",
       "  <tbody>\n",
       "    <tr>\n",
       "      <th>0</th>\n",
       "      <td>6758.0</td>\n",
       "    </tr>\n",
       "    <tr>\n",
       "      <th>1</th>\n",
       "      <td>5199.0</td>\n",
       "    </tr>\n",
       "    <tr>\n",
       "      <th>2</th>\n",
       "      <td>10292.0</td>\n",
       "    </tr>\n",
       "    <tr>\n",
       "      <th>3</th>\n",
       "      <td>8812.0</td>\n",
       "    </tr>\n",
       "    <tr>\n",
       "      <th>4</th>\n",
       "      <td>3527.0</td>\n",
       "    </tr>\n",
       "    <tr>\n",
       "      <th>...</th>\n",
       "      <td>...</td>\n",
       "    </tr>\n",
       "    <tr>\n",
       "      <th>2250</th>\n",
       "      <td>1893.0</td>\n",
       "    </tr>\n",
       "    <tr>\n",
       "      <th>2251</th>\n",
       "      <td>5508.0</td>\n",
       "    </tr>\n",
       "    <tr>\n",
       "      <th>2252</th>\n",
       "      <td>3414.0</td>\n",
       "    </tr>\n",
       "    <tr>\n",
       "      <th>2253</th>\n",
       "      <td>2180.0</td>\n",
       "    </tr>\n",
       "    <tr>\n",
       "      <th>2254</th>\n",
       "      <td>4254.0</td>\n",
       "    </tr>\n",
       "  </tbody>\n",
       "</table>\n",
       "<p>2255 rows × 1 columns</p>\n",
       "</div>"
      ],
      "text/plain": [
       "            0\n",
       "0      6758.0\n",
       "1      5199.0\n",
       "2     10292.0\n",
       "3      8812.0\n",
       "4      3527.0\n",
       "...       ...\n",
       "2250   1893.0\n",
       "2251   5508.0\n",
       "2252   3414.0\n",
       "2253   2180.0\n",
       "2254   4254.0\n",
       "\n",
       "[2255 rows x 1 columns]"
      ]
     },
     "execution_count": 14,
     "metadata": {},
     "output_type": "execute_result"
    }
   ],
   "source": [
    "food"
   ]
  },
  {
   "cell_type": "code",
   "execution_count": 30,
   "id": "575a8d15",
   "metadata": {},
   "outputs": [],
   "source": [
    "answer = 0\n",
    "var = 0\n",
    "for i in food[0].values:\n",
    "    if np.isnan(i):\n",
    "        if var > answer:\n",
    "            answer = var\n",
    "        var = 0\n",
    "    else:\n",
    "        var += i"
   ]
  },
  {
   "cell_type": "code",
   "execution_count": 31,
   "id": "5095d233",
   "metadata": {},
   "outputs": [
    {
     "data": {
      "text/plain": [
       "71506.0"
      ]
     },
     "execution_count": 31,
     "metadata": {},
     "output_type": "execute_result"
    }
   ],
   "source": [
    "answer"
   ]
  },
  {
   "cell_type": "code",
   "execution_count": 32,
   "id": "dcb489e4",
   "metadata": {},
   "outputs": [],
   "source": [
    "answers = []\n",
    "var = 0\n",
    "for i in food[0].values:\n",
    "    if np.isnan(i):\n",
    "        answers.append(var)\n",
    "        var = 0\n",
    "    else:\n",
    "        var += i"
   ]
  },
  {
   "cell_type": "code",
   "execution_count": 43,
   "id": "25b21a7a",
   "metadata": {},
   "outputs": [
    {
     "data": {
      "text/plain": [
       "209603.0"
      ]
     },
     "execution_count": 43,
     "metadata": {},
     "output_type": "execute_result"
    }
   ],
   "source": [
    "answers.sort()\n",
    "sum(answers[-3:])"
   ]
  },
  {
   "cell_type": "markdown",
   "id": "39690861",
   "metadata": {},
   "source": [
    "# Dataframe solutions"
   ]
  },
  {
   "cell_type": "code",
   "execution_count": 92,
   "id": "026c0161",
   "metadata": {},
   "outputs": [
    {
     "data": {
      "text/html": [
       "<div>\n",
       "<style scoped>\n",
       "    .dataframe tbody tr th:only-of-type {\n",
       "        vertical-align: middle;\n",
       "    }\n",
       "\n",
       "    .dataframe tbody tr th {\n",
       "        vertical-align: top;\n",
       "    }\n",
       "\n",
       "    .dataframe thead th {\n",
       "        text-align: right;\n",
       "    }\n",
       "</style>\n",
       "<table border=\"1\" class=\"dataframe\">\n",
       "  <thead>\n",
       "    <tr style=\"text-align: right;\">\n",
       "      <th></th>\n",
       "      <th>x4</th>\n",
       "      <th>x2</th>\n",
       "    </tr>\n",
       "  </thead>\n",
       "  <tbody>\n",
       "    <tr>\n",
       "      <th>112</th>\n",
       "      <td>951</td>\n",
       "      <td>71506.0</td>\n",
       "    </tr>\n",
       "    <tr>\n",
       "      <th>191</th>\n",
       "      <td>1710</td>\n",
       "      <td>69368.0</td>\n",
       "    </tr>\n",
       "    <tr>\n",
       "      <th>133</th>\n",
       "      <td>1109</td>\n",
       "      <td>68729.0</td>\n",
       "    </tr>\n",
       "    <tr>\n",
       "      <th>254</th>\n",
       "      <td>2227</td>\n",
       "      <td>68342.0</td>\n",
       "    </tr>\n",
       "    <tr>\n",
       "      <th>148</th>\n",
       "      <td>1277</td>\n",
       "      <td>67818.0</td>\n",
       "    </tr>\n",
       "    <tr>\n",
       "      <th>...</th>\n",
       "      <td>...</td>\n",
       "      <td>...</td>\n",
       "    </tr>\n",
       "    <tr>\n",
       "      <th>57</th>\n",
       "      <td>474</td>\n",
       "      <td>16514.0</td>\n",
       "    </tr>\n",
       "    <tr>\n",
       "      <th>80</th>\n",
       "      <td>658</td>\n",
       "      <td>15870.0</td>\n",
       "    </tr>\n",
       "    <tr>\n",
       "      <th>38</th>\n",
       "      <td>282</td>\n",
       "      <td>11905.0</td>\n",
       "    </tr>\n",
       "    <tr>\n",
       "      <th>3</th>\n",
       "      <td>12</td>\n",
       "      <td>6730.0</td>\n",
       "    </tr>\n",
       "    <tr>\n",
       "      <th>30</th>\n",
       "      <td>238</td>\n",
       "      <td>6529.0</td>\n",
       "    </tr>\n",
       "  </tbody>\n",
       "</table>\n",
       "<p>256 rows × 2 columns</p>\n",
       "</div>"
      ],
      "text/plain": [
       "       x4       x2\n",
       "112   951  71506.0\n",
       "191  1710  69368.0\n",
       "133  1109  68729.0\n",
       "254  2227  68342.0\n",
       "148  1277  67818.0\n",
       "..    ...      ...\n",
       "57    474  16514.0\n",
       "80    658  15870.0\n",
       "38    282  11905.0\n",
       "3      12   6730.0\n",
       "30    238   6529.0\n",
       "\n",
       "[256 rows x 2 columns]"
      ]
     },
     "execution_count": 92,
     "metadata": {},
     "output_type": "execute_result"
    }
   ],
   "source": [
    "(food\n",
    " .fillna(0)\n",
    " .reset_index()\n",
    " .rename(columns={'index':'x1', 0:'x2'})\n",
    " .assign(\n",
    "     x3 = lambda x: np.where(x.x2 == 0, x.x1, 0),\n",
    "     x4 = lambda x: x.x3.cummax()\n",
    " )\n",
    " .groupby('x4', as_index=False)\n",
    " .agg({'x2':'sum'})\n",
    " .sort_values('x2', ascending=False)\n",
    ")"
   ]
  },
  {
   "cell_type": "code",
   "execution_count": 105,
   "id": "5a6e2384",
   "metadata": {},
   "outputs": [],
   "source": [
    "df = (food\n",
    " .fillna(0)\n",
    " .reset_index()\n",
    " .rename(columns={'index':'x1', 0:'calories'})\n",
    " .assign(\n",
    "     x1 = lambda x: np.where(x.calories == 0, x.x1, 0),\n",
    "     elf = lambda x: x.x1.cummax()\n",
    " ) \n",
    " .groupby('elf', as_index=False)\n",
    " .agg({'calories':'sum'})\n",
    " .sort_values('calories', ascending=False)\n",
    ")"
   ]
  },
  {
   "cell_type": "code",
   "execution_count": 106,
   "id": "a3cf8cf9",
   "metadata": {},
   "outputs": [
    {
     "data": {
      "text/plain": [
       "elf          2243.0\n",
       "calories    71506.0\n",
       "dtype: float64"
      ]
     },
     "execution_count": 106,
     "metadata": {},
     "output_type": "execute_result"
    }
   ],
   "source": [
    "df.max()"
   ]
  },
  {
   "cell_type": "code",
   "execution_count": 108,
   "id": "0f65c730",
   "metadata": {},
   "outputs": [
    {
     "data": {
      "text/plain": [
       "209603.0"
      ]
     },
     "execution_count": 108,
     "metadata": {},
     "output_type": "execute_result"
    }
   ],
   "source": [
    "df.iloc[:3, 1].sum()"
   ]
  },
  {
   "cell_type": "code",
   "execution_count": null,
   "id": "4de94545",
   "metadata": {},
   "outputs": [],
   "source": []
  }
 ],
 "metadata": {
  "kernelspec": {
   "display_name": "Python 3 (ipykernel)",
   "language": "python",
   "name": "python3"
  },
  "language_info": {
   "codemirror_mode": {
    "name": "ipython",
    "version": 3
   },
   "file_extension": ".py",
   "mimetype": "text/x-python",
   "name": "python",
   "nbconvert_exporter": "python",
   "pygments_lexer": "ipython3",
   "version": "3.9.13"
  }
 },
 "nbformat": 4,
 "nbformat_minor": 5
}
