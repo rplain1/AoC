{
 "cells": [
  {
   "cell_type": "markdown",
   "id": "d7da60b0",
   "metadata": {},
   "source": [
    "# Day 3"
   ]
  },
  {
   "cell_type": "code",
   "execution_count": 44,
   "id": "f560baf0",
   "metadata": {},
   "outputs": [],
   "source": [
    "import numpy as np\n",
    "import pandas as pd\n",
    "import string"
   ]
  },
  {
   "cell_type": "code",
   "execution_count": 80,
   "id": "8936f145",
   "metadata": {},
   "outputs": [
    {
     "data": {
      "text/html": [
       "<div>\n",
       "<style scoped>\n",
       "    .dataframe tbody tr th:only-of-type {\n",
       "        vertical-align: middle;\n",
       "    }\n",
       "\n",
       "    .dataframe tbody tr th {\n",
       "        vertical-align: top;\n",
       "    }\n",
       "\n",
       "    .dataframe thead th {\n",
       "        text-align: right;\n",
       "    }\n",
       "</style>\n",
       "<table border=\"1\" class=\"dataframe\">\n",
       "  <thead>\n",
       "    <tr style=\"text-align: right;\">\n",
       "      <th></th>\n",
       "      <th>order</th>\n",
       "    </tr>\n",
       "  </thead>\n",
       "  <tbody>\n",
       "    <tr>\n",
       "      <th>0</th>\n",
       "      <td>vGFhvGvvSdfwqhqvmCPnlFPnCNPcCFcWcr</td>\n",
       "    </tr>\n",
       "    <tr>\n",
       "      <th>1</th>\n",
       "      <td>ZbWZDMgsTHsrNNLJcJnsJl</td>\n",
       "    </tr>\n",
       "    <tr>\n",
       "      <th>2</th>\n",
       "      <td>HbBWQgZVZZBzbgZphwjqpmmVfdGmjG</td>\n",
       "    </tr>\n",
       "    <tr>\n",
       "      <th>3</th>\n",
       "      <td>vvCJLGnthChvtrvCCnRbTRqRPRBtbTRfPRRl</td>\n",
       "    </tr>\n",
       "    <tr>\n",
       "      <th>4</th>\n",
       "      <td>djZSgHNNwjqcdWlbcbfc</td>\n",
       "    </tr>\n",
       "  </tbody>\n",
       "</table>\n",
       "</div>"
      ],
      "text/plain": [
       "                                  order\n",
       "0    vGFhvGvvSdfwqhqvmCPnlFPnCNPcCFcWcr\n",
       "1                ZbWZDMgsTHsrNNLJcJnsJl\n",
       "2        HbBWQgZVZZBzbgZphwjqpmmVfdGmjG\n",
       "3  vvCJLGnthChvtrvCCnRbTRqRPRBtbTRfPRRl\n",
       "4                  djZSgHNNwjqcdWlbcbfc"
      ]
     },
     "execution_count": 80,
     "metadata": {},
     "output_type": "execute_result"
    }
   ],
   "source": [
    "orders = pd.read_csv('inputs/day_03_input.txt', header=None)\n",
    "orders.columns = ['order']\n",
    "orders.head()"
   ]
  },
  {
   "cell_type": "code",
   "execution_count": 54,
   "id": "64285484",
   "metadata": {},
   "outputs": [
    {
     "data": {
      "text/plain": [
       "1"
      ]
     },
     "execution_count": 54,
     "metadata": {},
     "output_type": "execute_result"
    }
   ],
   "source": [
    "strings = string.ascii_lowercase + string.ascii_uppercase\n",
    "priorities = {strings[i]:i+1 for i in range(len(strings))}\n",
    "priorities['a']"
   ]
  },
  {
   "cell_type": "code",
   "execution_count": 81,
   "id": "6b872c51",
   "metadata": {},
   "outputs": [
    {
     "data": {
      "text/html": [
       "<div>\n",
       "<style scoped>\n",
       "    .dataframe tbody tr th:only-of-type {\n",
       "        vertical-align: middle;\n",
       "    }\n",
       "\n",
       "    .dataframe tbody tr th {\n",
       "        vertical-align: top;\n",
       "    }\n",
       "\n",
       "    .dataframe thead th {\n",
       "        text-align: right;\n",
       "    }\n",
       "</style>\n",
       "<table border=\"1\" class=\"dataframe\">\n",
       "  <thead>\n",
       "    <tr style=\"text-align: right;\">\n",
       "      <th></th>\n",
       "      <th>order</th>\n",
       "      <th>splt</th>\n",
       "      <th>order1</th>\n",
       "      <th>order2</th>\n",
       "    </tr>\n",
       "  </thead>\n",
       "  <tbody>\n",
       "    <tr>\n",
       "      <th>0</th>\n",
       "      <td>vGFhvGvvSdfwqhqvmCPnlFPnCNPcCFcWcr</td>\n",
       "      <td>34</td>\n",
       "      <td>vGFhvGvvSdfwqhqvm</td>\n",
       "      <td>CPnlFPnCNPcCFcWcr</td>\n",
       "    </tr>\n",
       "    <tr>\n",
       "      <th>1</th>\n",
       "      <td>ZbWZDMgsTHsrNNLJcJnsJl</td>\n",
       "      <td>22</td>\n",
       "      <td>ZbWZDMgsTHs</td>\n",
       "      <td>rNNLJcJnsJl</td>\n",
       "    </tr>\n",
       "    <tr>\n",
       "      <th>2</th>\n",
       "      <td>HbBWQgZVZZBzbgZphwjqpmmVfdGmjG</td>\n",
       "      <td>30</td>\n",
       "      <td>HbBWQgZVZZBzbgZ</td>\n",
       "      <td>phwjqpmmVfdGmjG</td>\n",
       "    </tr>\n",
       "    <tr>\n",
       "      <th>3</th>\n",
       "      <td>vvCJLGnthChvtrvCCnRbTRqRPRBtbTRfPRRl</td>\n",
       "      <td>36</td>\n",
       "      <td>vvCJLGnthChvtrvCCn</td>\n",
       "      <td>RbTRqRPRBtbTRfPRRl</td>\n",
       "    </tr>\n",
       "    <tr>\n",
       "      <th>4</th>\n",
       "      <td>djZSgHNNwjqcdWlbcbfc</td>\n",
       "      <td>20</td>\n",
       "      <td>djZSgHNNwj</td>\n",
       "      <td>qcdWlbcbfc</td>\n",
       "    </tr>\n",
       "  </tbody>\n",
       "</table>\n",
       "</div>"
      ],
      "text/plain": [
       "                                  order  splt              order1  \\\n",
       "0    vGFhvGvvSdfwqhqvmCPnlFPnCNPcCFcWcr    34   vGFhvGvvSdfwqhqvm   \n",
       "1                ZbWZDMgsTHsrNNLJcJnsJl    22         ZbWZDMgsTHs   \n",
       "2        HbBWQgZVZZBzbgZphwjqpmmVfdGmjG    30     HbBWQgZVZZBzbgZ   \n",
       "3  vvCJLGnthChvtrvCCnRbTRqRPRBtbTRfPRRl    36  vvCJLGnthChvtrvCCn   \n",
       "4                  djZSgHNNwjqcdWlbcbfc    20          djZSgHNNwj   \n",
       "\n",
       "               order2  \n",
       "0   CPnlFPnCNPcCFcWcr  \n",
       "1         rNNLJcJnsJl  \n",
       "2     phwjqpmmVfdGmjG  \n",
       "3  RbTRqRPRBtbTRfPRRl  \n",
       "4          qcdWlbcbfc  "
      ]
     },
     "execution_count": 81,
     "metadata": {},
     "output_type": "execute_result"
    }
   ],
   "source": [
    "df = (\n",
    "    orders\n",
    "    .assign(\n",
    "        splt = lambda x: x.order.str.len(),\n",
    "        order1 = lambda x: x.apply(lambda x: x.order[:int(x.splt/2)], axis=1),\n",
    "        order2 = lambda x: x.apply(lambda x: x.order[int(x.splt/2):], axis=1),\n",
    "    )\n",
    "\n",
    ")\n",
    "\n",
    "df.head()"
   ]
  },
  {
   "cell_type": "code",
   "execution_count": 86,
   "id": "d7c1c64e",
   "metadata": {},
   "outputs": [
    {
     "data": {
      "text/plain": [
       "0      True\n",
       "1      True\n",
       "2      True\n",
       "3      True\n",
       "4      True\n",
       "       ... \n",
       "295    True\n",
       "296    True\n",
       "297    True\n",
       "298    True\n",
       "299    True\n",
       "Length: 300, dtype: bool"
      ]
     },
     "execution_count": 86,
     "metadata": {},
     "output_type": "execute_result"
    }
   ],
   "source": [
    "def columns_overlap(row):\n",
    "    sets = [set(s for s in row)]\n",
    "    intersection = set.intersection(*sets)\n",
    "    return intersection != set()\n",
    "\n",
    "df[['order1', 'order2']].apply(columns_overlap, axis=1)"
   ]
  },
  {
   "cell_type": "code",
   "execution_count": 104,
   "id": "4fcc677a",
   "metadata": {},
   "outputs": [
    {
     "data": {
      "text/plain": [
       "0      [True, True]\n",
       "1            [True]\n",
       "2            [True]\n",
       "3            [True]\n",
       "4            [True]\n",
       "           ...     \n",
       "295    [True, True]\n",
       "296          [True]\n",
       "297          [True]\n",
       "298          [True]\n",
       "299    [True, True]\n",
       "Length: 300, dtype: object"
      ]
     },
     "execution_count": 104,
     "metadata": {},
     "output_type": "execute_result"
    }
   ],
   "source": [
    "df.apply(\n",
    "    lambda x: [t for t in [i in x.order1 for i in x.order2] if t == True], axis=1\n",
    ")\n"
   ]
  },
  {
   "cell_type": "code",
   "execution_count": 132,
   "id": "f5871b8f",
   "metadata": {},
   "outputs": [
    {
     "data": {
      "text/plain": [
       "7785"
      ]
     },
     "execution_count": 132,
     "metadata": {},
     "output_type": "execute_result"
    }
   ],
   "source": [
    "count = 0\n",
    "result = {}\n",
    "for o in orders.order.unique():\n",
    "    o1 = o[:int(len(o)/2)]\n",
    "    o2 = o[int(len(o)/2):]\n",
    "    \n",
    "    value = [x for x in o1 if x in o2]\n",
    "    result[count] = priorities[value[0]]\n",
    "    count += 1\n",
    "    \n",
    "sum(result.values())"
   ]
  },
  {
   "cell_type": "code",
   "execution_count": 151,
   "id": "e3e005d8",
   "metadata": {},
   "outputs": [
    {
     "data": {
      "text/html": [
       "<div>\n",
       "<style scoped>\n",
       "    .dataframe tbody tr th:only-of-type {\n",
       "        vertical-align: middle;\n",
       "    }\n",
       "\n",
       "    .dataframe tbody tr th {\n",
       "        vertical-align: top;\n",
       "    }\n",
       "\n",
       "    .dataframe thead th {\n",
       "        text-align: right;\n",
       "    }\n",
       "</style>\n",
       "<table border=\"1\" class=\"dataframe\">\n",
       "  <thead>\n",
       "    <tr style=\"text-align: right;\">\n",
       "      <th>rn</th>\n",
       "      <th>1</th>\n",
       "      <th>2</th>\n",
       "      <th>3</th>\n",
       "    </tr>\n",
       "    <tr>\n",
       "      <th>index</th>\n",
       "      <th></th>\n",
       "      <th></th>\n",
       "      <th></th>\n",
       "    </tr>\n",
       "  </thead>\n",
       "  <tbody>\n",
       "    <tr>\n",
       "      <th>0.0</th>\n",
       "      <td>vGFhvGvvSdfwqhqvmCPnlFPnCNPcCFcWcr</td>\n",
       "      <td>ZbWZDMgsTHsrNNLJcJnsJl</td>\n",
       "      <td>HbBWQgZVZZBzbgZphwjqpmmVfdGmjG</td>\n",
       "    </tr>\n",
       "    <tr>\n",
       "      <th>3.0</th>\n",
       "      <td>vvCJLGnthChvtrvCCnRbTRqRPRBtbTRfPRRl</td>\n",
       "      <td>djZSgHNNwjqcdWlbcbfc</td>\n",
       "      <td>pFgMSfpMfzMDZFSgSjGJQQnCvMCVLnnJQLGC</td>\n",
       "    </tr>\n",
       "    <tr>\n",
       "      <th>6.0</th>\n",
       "      <td>gVhQWQpcWZVwwHVvFvnnnnDFdL</td>\n",
       "      <td>lzbPlztjltztzSjfGcPdTHLTHFCnnHCLndFGGd</td>\n",
       "      <td>jsNbzbczclttSlfbqlljRQMJRMMpJwRZhspZgJRM</td>\n",
       "    </tr>\n",
       "    <tr>\n",
       "      <th>9.0</th>\n",
       "      <td>hLJvfGcNDttSGvJtvSSJcqbqFBBWbjQqDrqbjDDjjb</td>\n",
       "      <td>lTswlzZdssgFpdPwZpMQnCjngCCjWBQBWWQqng</td>\n",
       "      <td>PRZMpzPZTdVZTfJvFvLFRctJcf</td>\n",
       "    </tr>\n",
       "    <tr>\n",
       "      <th>12.0</th>\n",
       "      <td>JHbQtHVHHLLbTJmmZddgdgwhllMNhhhTgg</td>\n",
       "      <td>spqpNGDjDPMhCFChMj</td>\n",
       "      <td>DBSDDGnpSDsDWqWczcvSqWvsBtJJLLZrRVZLJRbBZNVrBHrV</td>\n",
       "    </tr>\n",
       "  </tbody>\n",
       "</table>\n",
       "</div>"
      ],
      "text/plain": [
       "rn                                              1  \\\n",
       "index                                               \n",
       "0.0            vGFhvGvvSdfwqhqvmCPnlFPnCNPcCFcWcr   \n",
       "3.0          vvCJLGnthChvtrvCCnRbTRqRPRBtbTRfPRRl   \n",
       "6.0                    gVhQWQpcWZVwwHVvFvnnnnDFdL   \n",
       "9.0    hLJvfGcNDttSGvJtvSSJcqbqFBBWbjQqDrqbjDDjjb   \n",
       "12.0           JHbQtHVHHLLbTJmmZddgdgwhllMNhhhTgg   \n",
       "\n",
       "rn                                          2  \\\n",
       "index                                           \n",
       "0.0                    ZbWZDMgsTHsrNNLJcJnsJl   \n",
       "3.0                      djZSgHNNwjqcdWlbcbfc   \n",
       "6.0    lzbPlztjltztzSjfGcPdTHLTHFCnnHCLndFGGd   \n",
       "9.0    lTswlzZdssgFpdPwZpMQnCjngCCjWBQBWWQqng   \n",
       "12.0                       spqpNGDjDPMhCFChMj   \n",
       "\n",
       "rn                                                    3  \n",
       "index                                                    \n",
       "0.0                      HbBWQgZVZZBzbgZphwjqpmmVfdGmjG  \n",
       "3.0                pFgMSfpMfzMDZFSgSjGJQQnCvMCVLnnJQLGC  \n",
       "6.0            jsNbzbczclttSlfbqlljRQMJRMMpJwRZhspZgJRM  \n",
       "9.0                          PRZMpzPZTdVZTfJvFvLFRctJcf  \n",
       "12.0   DBSDDGnpSDsDWqWczcvSqWvsBtJJLLZrRVZLJRbBZNVrBHrV  "
      ]
     },
     "execution_count": 151,
     "metadata": {},
     "output_type": "execute_result"
    }
   ],
   "source": [
    "df2 = (\n",
    "    orders\n",
    "    .reset_index()\n",
    "    .assign(\n",
    "        index = lambda x: np.floor(x.index/3)*3,\n",
    "        rn = lambda x: x.groupby('index').cumcount()+1\n",
    "    )\n",
    "    .pivot(index='index',columns='rn', values='order')\n",
    ")\n",
    "df2.head()"
   ]
  },
  {
   "cell_type": "code",
   "execution_count": 155,
   "id": "ffd9f0eb",
   "metadata": {},
   "outputs": [
    {
     "data": {
      "text/plain": [
       "'vvCJLGnthChvtrvCCnRbTRqRPRBtbTRfPRRl'"
      ]
     },
     "execution_count": 155,
     "metadata": {},
     "output_type": "execute_result"
    }
   ],
   "source": [
    "df2.iloc[1, 0]"
   ]
  },
  {
   "cell_type": "code",
   "execution_count": 160,
   "id": "47d68796",
   "metadata": {},
   "outputs": [],
   "source": [
    "result2 = {}\n",
    "\n",
    "for i in range(len(df2.index)):\n",
    "    vals = []\n",
    "    for col in range(3):\n",
    "        vals.append(df2.iloc[i, col])\n",
    "        \n",
    "    for letter in vals[0]:\n",
    "        if letter in vals[1] and letter in vals[2]:\n",
    "            result2[i] = priorities[letter]\n",
    "    \n",
    "    "
   ]
  },
  {
   "cell_type": "code",
   "execution_count": 161,
   "id": "03f23da6",
   "metadata": {},
   "outputs": [
    {
     "data": {
      "text/plain": [
       "{0: 49,\n",
       " 1: 6,\n",
       " 2: 3,\n",
       " 3: 32,\n",
       " 4: 40,\n",
       " 5: 3,\n",
       " 6: 4,\n",
       " 7: 28,\n",
       " 8: 33,\n",
       " 9: 2,\n",
       " 10: 48,\n",
       " 11: 14,\n",
       " 12: 22,\n",
       " 13: 42,\n",
       " 14: 23,\n",
       " 15: 52,\n",
       " 16: 30,\n",
       " 17: 52,\n",
       " 18: 33,\n",
       " 19: 30,\n",
       " 20: 34,\n",
       " 21: 39,\n",
       " 22: 6,\n",
       " 23: 13,\n",
       " 24: 33,\n",
       " 25: 49,\n",
       " 26: 46,\n",
       " 27: 14,\n",
       " 28: 30,\n",
       " 29: 18,\n",
       " 30: 38,\n",
       " 31: 2,\n",
       " 32: 4,\n",
       " 33: 40,\n",
       " 34: 26,\n",
       " 35: 4,\n",
       " 36: 40,\n",
       " 37: 39,\n",
       " 38: 19,\n",
       " 39: 16,\n",
       " 40: 10,\n",
       " 41: 46,\n",
       " 42: 42,\n",
       " 43: 12,\n",
       " 44: 8,\n",
       " 45: 45,\n",
       " 46: 23,\n",
       " 47: 39,\n",
       " 48: 42,\n",
       " 49: 42,\n",
       " 50: 43,\n",
       " 51: 32,\n",
       " 52: 39,\n",
       " 53: 13,\n",
       " 54: 13,\n",
       " 55: 33,\n",
       " 56: 46,\n",
       " 57: 7,\n",
       " 58: 20,\n",
       " 59: 34,\n",
       " 60: 30,\n",
       " 61: 28,\n",
       " 62: 2,\n",
       " 63: 38,\n",
       " 64: 30,\n",
       " 65: 26,\n",
       " 66: 33,\n",
       " 67: 23,\n",
       " 68: 18,\n",
       " 69: 39,\n",
       " 70: 29,\n",
       " 71: 38,\n",
       " 72: 6,\n",
       " 73: 12,\n",
       " 74: 4,\n",
       " 75: 2,\n",
       " 76: 52,\n",
       " 77: 17,\n",
       " 78: 16,\n",
       " 79: 44,\n",
       " 80: 14,\n",
       " 81: 16,\n",
       " 82: 46,\n",
       " 83: 34,\n",
       " 84: 4,\n",
       " 85: 13,\n",
       " 86: 36,\n",
       " 87: 48,\n",
       " 88: 42,\n",
       " 89: 34,\n",
       " 90: 8,\n",
       " 91: 16,\n",
       " 92: 45,\n",
       " 93: 8,\n",
       " 94: 4,\n",
       " 95: 48,\n",
       " 96: 39,\n",
       " 97: 19,\n",
       " 98: 14,\n",
       " 99: 13}"
      ]
     },
     "execution_count": 161,
     "metadata": {},
     "output_type": "execute_result"
    }
   ],
   "source": [
    "result2"
   ]
  },
  {
   "cell_type": "code",
   "execution_count": null,
   "id": "02137ac0",
   "metadata": {},
   "outputs": [],
   "source": []
  }
 ],
 "metadata": {
  "kernelspec": {
   "display_name": "Python 3 (ipykernel)",
   "language": "python",
   "name": "python3"
  },
  "language_info": {
   "codemirror_mode": {
    "name": "ipython",
    "version": 3
   },
   "file_extension": ".py",
   "mimetype": "text/x-python",
   "name": "python",
   "nbconvert_exporter": "python",
   "pygments_lexer": "ipython3",
   "version": "3.9.13"
  }
 },
 "nbformat": 4,
 "nbformat_minor": 5
}
